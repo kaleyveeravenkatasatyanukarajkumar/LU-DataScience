{
 "cells": [
  {
   "cell_type": "markdown",
   "metadata": {},
   "source": [
    "# assignment-2:\n",
    "data science:"
   ]
  },
  {
   "cell_type": "markdown",
   "metadata": {},
   "source": [
    "# question-1:"
   ]
  },
  {
   "cell_type": "code",
   "execution_count": 1,
   "metadata": {},
   "outputs": [
    {
     "name": "stdout",
     "output_type": "stream",
     "text": [
      "10\n",
      "[0, 2, 4, 6, 8, 10]\n"
     ]
    }
   ],
   "source": [
    "\n",
    "n=int(input())\n",
    "lt=[]\n",
    "\n",
    "for i in range(n+1):\n",
    "    if i%2==0:\n",
    "        lt.append(i)\n",
    "print(lt)        \n"
   ]
  },
  {
   "cell_type": "markdown",
   "metadata": {},
   "source": [
    "# question-2:"
   ]
  },
  {
   "cell_type": "markdown",
   "metadata": {},
   "source": [
    "# list comprehension:\n",
    "A list comprehension is a syntactic construct available in some programming languages for creating a list based on existing lists. It follows the form of the mathematical set-builder notation (set comprehension) as distinct from the use of map and filter functions.\n",
    "This is the basic syntax:\n",
    "new_list = [expression for_loop_one_or_more conditions]\n",
    "example:\n",
    "numbers = [1, 2, 3, 4]\n",
    "squares = [n**2 for n in numbers]\n",
    "\n",
    "print(squares)\n",
    "*List comprehensions can also be used to iterate over strings.\n",
    "*Like tuples, list comprehensions can be used to produce a list of a list.\n",
    "\n",
    "\n"
   ]
  },
  {
   "cell_type": "markdown",
   "metadata": {},
   "source": [
    "# question-3:"
   ]
  },
  {
   "cell_type": "code",
   "execution_count": 27,
   "metadata": {},
   "outputs": [
    {
     "name": "stdout",
     "output_type": "stream",
     "text": [
      "8\n",
      "{1: 1, 2: 4, 3: 9, 4: 16, 5: 25, 6: 36, 7: 49, 8: 64}\n"
     ]
    }
   ],
   "source": [
    "d=dict()\n",
    "n=int(input())\n",
    "for x in range(1,n+1):\n",
    "    d[x]=x**2\n",
    "print(d)    "
   ]
  },
  {
   "cell_type": "markdown",
   "metadata": {},
   "source": [
    "# question-4:"
   ]
  },
  {
   "cell_type": "code",
   "execution_count": null,
   "metadata": {},
   "outputs": [],
   "source": [
    "ls=[]\n",
    "n=int(input())\n",
    "\n",
    "for i in range(n):\n",
    "   key = input()\n",
    "   value = int(input())\n",
    "   ls.append(key)\n",
    "   ls.append(value)\n",
    "   \n",
    "print(ls)    \n",
    "\n",
    "dct = {ls[i]: ls[i + 1] for i in range(0, len(ls), 2)}\n",
    "\n",
    "print(dct)\n",
    "\n",
    "\n",
    "a=int(dct.get('up'))\n",
    "b=int(dct.get('down'))\n",
    "\n",
    "print(a-b)\n"
   ]
  },
  {
   "cell_type": "code",
   "execution_count": null,
   "metadata": {},
   "outputs": [],
   "source": []
  }
 ],
 "metadata": {
  "kernelspec": {
   "display_name": "Python 3",
   "language": "python",
   "name": "python3"
  },
  "language_info": {
   "codemirror_mode": {
    "name": "ipython",
    "version": 3
   },
   "file_extension": ".py",
   "mimetype": "text/x-python",
   "name": "python",
   "nbconvert_exporter": "python",
   "pygments_lexer": "ipython3",
   "version": "3.7.6"
  }
 },
 "nbformat": 4,
 "nbformat_minor": 4
}
